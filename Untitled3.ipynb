{
  "nbformat": 4,
  "nbformat_minor": 0,
  "metadata": {
    "colab": {
      "name": "Untitled3.ipynb",
      "provenance": [],
      "authorship_tag": "ABX9TyNHIF1sJDyeX39jxiPbxCPL",
      "include_colab_link": true
    },
    "kernelspec": {
      "name": "python3",
      "display_name": "Python 3"
    },
    "language_info": {
      "name": "python"
    }
  },
  "cells": [
    {
      "cell_type": "markdown",
      "metadata": {
        "id": "view-in-github",
        "colab_type": "text"
      },
      "source": [
        "<a href=\"https://colab.research.google.com/github/IngJoan/Nuevo1/blob/main/Untitled3.ipynb\" target=\"_parent\"><img src=\"https://colab.research.google.com/assets/colab-badge.svg\" alt=\"Open In Colab\"/></a>"
      ]
    },
    {
      "cell_type": "code",
      "execution_count": 2,
      "metadata": {
        "colab": {
          "base_uri": "https://localhost:8080/"
        },
        "id": "Zkfl4rYZINhZ",
        "outputId": "9e75fea5-ad8f-4100-cc66-fd74cbff0179"
      },
      "outputs": [
        {
          "output_type": "stream",
          "name": "stdout",
          "text": [
            "fatal: destination path 'UdeCataluna' already exists and is not an empty directory.\n"
          ]
        }
      ],
      "source": [
        "!git clone https://github.com/HarryVargas96/UdeCataluna.git"
      ]
    },
    {
      "cell_type": "code",
      "source": [
        "import pandas as pd\n"
      ],
      "metadata": {
        "id": "cWh1fX_RJEPK"
      },
      "execution_count": 3,
      "outputs": []
    },
    {
      "cell_type": "code",
      "source": [
        "acciones = pd.read_excel(\"/content/UdeCataluna/Acciones.xls\")"
      ],
      "metadata": {
        "id": "vYEXwaKmJHov"
      },
      "execution_count": 4,
      "outputs": []
    },
    {
      "cell_type": "code",
      "source": [
        "pip install xlrd==1.2.0"
      ],
      "metadata": {
        "id": "w-n2kVejJ3ra"
      },
      "execution_count": null,
      "outputs": []
    },
    {
      "cell_type": "code",
      "source": [
        "acciones.head\n"
      ],
      "metadata": {
        "colab": {
          "base_uri": "https://localhost:8080/"
        },
        "id": "Tatw66tIKTtT",
        "outputId": "73ec91f1-c3d7-4eaa-9179-c09b73cb3b90"
      },
      "execution_count": 5,
      "outputs": [
        {
          "output_type": "execute_result",
          "data": {
            "text/plain": [
              "<bound method NDFrame.head of     Cantidad Nemotecnico       Volumen  Ultimo_Precio  Variacion%\n",
              "0     846463  PFBCOLOM    1.974768e+10          24000    6.100796\n",
              "1   24502418  PFAVAL      1.973486e+10            814    2.132999\n",
              "2     726655  BCOLOMBIA   1.660450e+10          23980    7.533632\n",
              "3    8228583  ECOPETROL   1.634702e+10           2005    0.753769\n",
              "4     306690  GRUPOSURA   5.767559e+09          18840   -1.361257\n",
              "5     453185  CNEC        4.829622e+09          11000    2.040816\n",
              "6     191013  PFDAVVNDA   4.650587e+09          24800    3.247294\n",
              "7     244283  ISA         4.605223e+09          19140    2.903226\n",
              "8     381613  GRUPOARGOS  3.127682e+09           8120   -1.694915\n",
              "9    1273704  GEB         2.803104e+09           2210    0.913242\n",
              "10    104278  NUTRESA     2.354858e+09          22480   -0.794351\n",
              "11   1292408  CLH         2.131791e+09           1650    0.303951\n",
              "12     79557  PFGRUPSURA  1.277777e+09          16020   -1.233046\n",
              "13   8738322  PFAVH       1.104693e+09            120   39.534884\n",
              "14    190310  CEMARGOS    6.708456e+08           3500   -2.097902\n",
              "15     26559  CORFICOLCF  6.616027e+08          25000    1.132686\n",
              "16     66763  PFGRUPOARG  4.703324e+08           7130    0.422535\n",
              "17     73431  MINEROS     2.524016e+08           3400   -0.584795\n",
              "18     18775  EXITO       2.066821e+08          11200   -2.097902\n",
              "19      3410  BOGOTA      2.021084e+08          59000   -1.073105\n",
              "20     39556  CELSIA      1.611080e+08           4060   -0.975610\n",
              "21     17304  TERPEL      1.204826e+08           7000    0.000000\n",
              "22      3470  PFCORFICOL  6.939894e+07          20000    0.000000\n",
              "23      3915  ICOLCAP     4.299765e+07          11009    0.685934\n",
              "24      2707  TGLSC       3.903494e+07          14420    0.000000\n",
              "25     78304  CONCONCRET  2.744858e+07            350   -2.234637\n",
              "26      9190  PFCEMARGOS  2.667310e+07           2910    0.000000\n",
              "27       332  GRUBOLIVAR  1.914672e+07          57960    5.152395\n",
              "28     73700  ETB         1.415410e+07            192   -3.517588\n",
              "29   1182300  ENKA        9.931320e+06              8    0.000000\n",
              "30      1000  BVC         9.220000e+06           9220    0.000000\n",
              "31      4260  ELCONDOR    3.838260e+06            950    0.000000\n",
              "32       180  PROMIGAS    1.224000e+06           6870    0.000000>"
            ]
          },
          "metadata": {},
          "execution_count": 5
        }
      ]
    },
    {
      "cell_type": "code",
      "source": [
        "acciones.columns"
      ],
      "metadata": {
        "colab": {
          "base_uri": "https://localhost:8080/"
        },
        "id": "CvZ_vmA4KZjo",
        "outputId": "8ddf7963-4a45-4441-c9f5-699ccbb00f4c"
      },
      "execution_count": 6,
      "outputs": [
        {
          "output_type": "execute_result",
          "data": {
            "text/plain": [
              "Index(['Cantidad', 'Nemotecnico', 'Volumen', 'Ultimo_Precio', 'Variacion%'], dtype='object')"
            ]
          },
          "metadata": {},
          "execution_count": 6
        }
      ]
    },
    {
      "cell_type": "code",
      "source": [
        "acciones.head(3)"
      ],
      "metadata": {
        "colab": {
          "base_uri": "https://localhost:8080/",
          "height": 143
        },
        "id": "4MMl_vvoKd1J",
        "outputId": "b3477b6c-2f25-4503-8cbe-21743fe6e645"
      },
      "execution_count": 7,
      "outputs": [
        {
          "output_type": "execute_result",
          "data": {
            "text/plain": [
              "   Cantidad Nemotecnico       Volumen  Ultimo_Precio  Variacion%\n",
              "0    846463  PFBCOLOM    1.974768e+10          24000    6.100796\n",
              "1  24502418  PFAVAL      1.973486e+10            814    2.132999\n",
              "2    726655  BCOLOMBIA   1.660450e+10          23980    7.533632"
            ],
            "text/html": [
              "\n",
              "  <div id=\"df-2d307d8d-13a0-4b95-bc74-c3956002de69\">\n",
              "    <div class=\"colab-df-container\">\n",
              "      <div>\n",
              "<style scoped>\n",
              "    .dataframe tbody tr th:only-of-type {\n",
              "        vertical-align: middle;\n",
              "    }\n",
              "\n",
              "    .dataframe tbody tr th {\n",
              "        vertical-align: top;\n",
              "    }\n",
              "\n",
              "    .dataframe thead th {\n",
              "        text-align: right;\n",
              "    }\n",
              "</style>\n",
              "<table border=\"1\" class=\"dataframe\">\n",
              "  <thead>\n",
              "    <tr style=\"text-align: right;\">\n",
              "      <th></th>\n",
              "      <th>Cantidad</th>\n",
              "      <th>Nemotecnico</th>\n",
              "      <th>Volumen</th>\n",
              "      <th>Ultimo_Precio</th>\n",
              "      <th>Variacion%</th>\n",
              "    </tr>\n",
              "  </thead>\n",
              "  <tbody>\n",
              "    <tr>\n",
              "      <th>0</th>\n",
              "      <td>846463</td>\n",
              "      <td>PFBCOLOM</td>\n",
              "      <td>1.974768e+10</td>\n",
              "      <td>24000</td>\n",
              "      <td>6.100796</td>\n",
              "    </tr>\n",
              "    <tr>\n",
              "      <th>1</th>\n",
              "      <td>24502418</td>\n",
              "      <td>PFAVAL</td>\n",
              "      <td>1.973486e+10</td>\n",
              "      <td>814</td>\n",
              "      <td>2.132999</td>\n",
              "    </tr>\n",
              "    <tr>\n",
              "      <th>2</th>\n",
              "      <td>726655</td>\n",
              "      <td>BCOLOMBIA</td>\n",
              "      <td>1.660450e+10</td>\n",
              "      <td>23980</td>\n",
              "      <td>7.533632</td>\n",
              "    </tr>\n",
              "  </tbody>\n",
              "</table>\n",
              "</div>\n",
              "      <button class=\"colab-df-convert\" onclick=\"convertToInteractive('df-2d307d8d-13a0-4b95-bc74-c3956002de69')\"\n",
              "              title=\"Convert this dataframe to an interactive table.\"\n",
              "              style=\"display:none;\">\n",
              "        \n",
              "  <svg xmlns=\"http://www.w3.org/2000/svg\" height=\"24px\"viewBox=\"0 0 24 24\"\n",
              "       width=\"24px\">\n",
              "    <path d=\"M0 0h24v24H0V0z\" fill=\"none\"/>\n",
              "    <path d=\"M18.56 5.44l.94 2.06.94-2.06 2.06-.94-2.06-.94-.94-2.06-.94 2.06-2.06.94zm-11 1L8.5 8.5l.94-2.06 2.06-.94-2.06-.94L8.5 2.5l-.94 2.06-2.06.94zm10 10l.94 2.06.94-2.06 2.06-.94-2.06-.94-.94-2.06-.94 2.06-2.06.94z\"/><path d=\"M17.41 7.96l-1.37-1.37c-.4-.4-.92-.59-1.43-.59-.52 0-1.04.2-1.43.59L10.3 9.45l-7.72 7.72c-.78.78-.78 2.05 0 2.83L4 21.41c.39.39.9.59 1.41.59.51 0 1.02-.2 1.41-.59l7.78-7.78 2.81-2.81c.8-.78.8-2.07 0-2.86zM5.41 20L4 18.59l7.72-7.72 1.47 1.35L5.41 20z\"/>\n",
              "  </svg>\n",
              "      </button>\n",
              "      \n",
              "  <style>\n",
              "    .colab-df-container {\n",
              "      display:flex;\n",
              "      flex-wrap:wrap;\n",
              "      gap: 12px;\n",
              "    }\n",
              "\n",
              "    .colab-df-convert {\n",
              "      background-color: #E8F0FE;\n",
              "      border: none;\n",
              "      border-radius: 50%;\n",
              "      cursor: pointer;\n",
              "      display: none;\n",
              "      fill: #1967D2;\n",
              "      height: 32px;\n",
              "      padding: 0 0 0 0;\n",
              "      width: 32px;\n",
              "    }\n",
              "\n",
              "    .colab-df-convert:hover {\n",
              "      background-color: #E2EBFA;\n",
              "      box-shadow: 0px 1px 2px rgba(60, 64, 67, 0.3), 0px 1px 3px 1px rgba(60, 64, 67, 0.15);\n",
              "      fill: #174EA6;\n",
              "    }\n",
              "\n",
              "    [theme=dark] .colab-df-convert {\n",
              "      background-color: #3B4455;\n",
              "      fill: #D2E3FC;\n",
              "    }\n",
              "\n",
              "    [theme=dark] .colab-df-convert:hover {\n",
              "      background-color: #434B5C;\n",
              "      box-shadow: 0px 1px 3px 1px rgba(0, 0, 0, 0.15);\n",
              "      filter: drop-shadow(0px 1px 2px rgba(0, 0, 0, 0.3));\n",
              "      fill: #FFFFFF;\n",
              "    }\n",
              "  </style>\n",
              "\n",
              "      <script>\n",
              "        const buttonEl =\n",
              "          document.querySelector('#df-2d307d8d-13a0-4b95-bc74-c3956002de69 button.colab-df-convert');\n",
              "        buttonEl.style.display =\n",
              "          google.colab.kernel.accessAllowed ? 'block' : 'none';\n",
              "\n",
              "        async function convertToInteractive(key) {\n",
              "          const element = document.querySelector('#df-2d307d8d-13a0-4b95-bc74-c3956002de69');\n",
              "          const dataTable =\n",
              "            await google.colab.kernel.invokeFunction('convertToInteractive',\n",
              "                                                     [key], {});\n",
              "          if (!dataTable) return;\n",
              "\n",
              "          const docLinkHtml = 'Like what you see? Visit the ' +\n",
              "            '<a target=\"_blank\" href=https://colab.research.google.com/notebooks/data_table.ipynb>data table notebook</a>'\n",
              "            + ' to learn more about interactive tables.';\n",
              "          element.innerHTML = '';\n",
              "          dataTable['output_type'] = 'display_data';\n",
              "          await google.colab.output.renderOutput(dataTable, element);\n",
              "          const docLink = document.createElement('div');\n",
              "          docLink.innerHTML = docLinkHtml;\n",
              "          element.appendChild(docLink);\n",
              "        }\n",
              "      </script>\n",
              "    </div>\n",
              "  </div>\n",
              "  "
            ]
          },
          "metadata": {},
          "execution_count": 7
        }
      ]
    }
  ]
}